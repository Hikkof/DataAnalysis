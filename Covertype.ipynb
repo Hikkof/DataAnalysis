{
  "cells": [
    {
      "cell_type": "markdown",
      "metadata": {
        "id": "kQT7UzocumFE"
      },
      "source": [
        "**Necessary imports**"
      ]
    },
    {
      "cell_type": "code",
      "execution_count": null,
      "metadata": {
        "id": "-2SJtoYPyFXq"
      },
      "outputs": [],
      "source": [
        "import pandas as pd\n",
        "import numpy as np\n",
        "import matplotlib.pyplot as plt\n",
        "from pprint import pprint\n",
        "from imblearn.over_sampling import SMOTE\n",
        "import sklearn\n",
        "from sklearn import preprocessing\n",
        "from sklearn.ensemble import RandomForestClassifier\n",
        "from sklearn.neighbors import KNeighborsClassifier\n",
        "from sklearn.naive_bayes import GaussianNB\n",
        "from sklearn.model_selection import GridSearchCV\n",
        "from sklearn.model_selection import RandomizedSearchCV\n",
        "from sklearn import metrics"
      ]
    },
    {
      "cell_type": "markdown",
      "metadata": {
        "id": "PqYXulsDuilF"
      },
      "source": [
        "**Downloading and preparing the dataset**\n"
      ]
    },
    {
      "cell_type": "code",
      "execution_count": null,
      "metadata": {
        "colab": {
          "base_uri": "https://localhost:8080/"
        },
        "id": "lWDpzjkgIJGi",
        "outputId": "a83a9c79-b41e-468e-e5d3-295617a28672"
      },
      "outputs": [
        {
          "output_type": "stream",
          "name": "stdout",
          "text": [
            "--2023-11-11 17:28:03--  http://archive.ics.uci.edu/static/public/31/covertype.zip\n",
            "Resolving archive.ics.uci.edu (archive.ics.uci.edu)... 128.195.10.252\n",
            "Connecting to archive.ics.uci.edu (archive.ics.uci.edu)|128.195.10.252|:80... connected.\n",
            "HTTP request sent, awaiting response... 200 OK\n",
            "Length: unspecified\n",
            "Saving to: ‘covertype.zip’\n",
            "\n",
            "covertype.zip           [   <=>              ]  10.73M  2.30MB/s    in 7.5s    \n",
            "\n",
            "2023-11-11 17:28:11 (1.42 MB/s) - ‘covertype.zip’ saved [11251206]\n",
            "\n",
            "<bound method NDFrame.head of         Elevation  Aspect  Slope  Horizontal Distance To Hydrology  \\\n",
            "0            2590      56      2                               212   \n",
            "1            2804     139      9                               268   \n",
            "2            2785     155     18                               242   \n",
            "3            2595      45      2                               153   \n",
            "4            2579     132      6                               300   \n",
            "...           ...     ...    ...                               ...   \n",
            "581006       2396     153     20                                85   \n",
            "581007       2391     152     19                                67   \n",
            "581008       2386     159     17                                60   \n",
            "581009       2384     170     15                                60   \n",
            "581010       2383     165     13                                60   \n",
            "\n",
            "        Vertical Distance To Hydrology  Horizontal Distance To Roadways  \\\n",
            "0                                   -6                              390   \n",
            "1                                   65                             3180   \n",
            "2                                  118                             3090   \n",
            "3                                   -1                              391   \n",
            "4                                  -15                               67   \n",
            "...                                ...                              ...   \n",
            "581006                              17                              108   \n",
            "581007                              12                               95   \n",
            "581008                               7                               90   \n",
            "581009                               5                               90   \n",
            "581010                               4                               67   \n",
            "\n",
            "        Hillshade 9am  Hillshade Noon  Hillshade 3pm  \\\n",
            "0                 220             235            151   \n",
            "1                 234             238            135   \n",
            "2                 238             238            122   \n",
            "3                 220             234            150   \n",
            "4                 230             237            140   \n",
            "...               ...             ...            ...   \n",
            "581006            240             237            118   \n",
            "581007            240             237            119   \n",
            "581008            236             241            130   \n",
            "581009            230             245            143   \n",
            "581010            231             244            141   \n",
            "\n",
            "        Horizontal Distance To Fire Points  ...  45  46  47  48  49  50  51  \\\n",
            "0                                     6225  ...   0   0   0   0   0   0   0   \n",
            "1                                     6121  ...   0   0   0   0   0   0   0   \n",
            "2                                     6211  ...   0   0   0   0   0   0   0   \n",
            "3                                     6172  ...   0   0   0   0   0   0   0   \n",
            "4                                     6031  ...   0   0   0   0   0   0   0   \n",
            "...                                    ...  ...  ..  ..  ..  ..  ..  ..  ..   \n",
            "581006                                 837  ...   0   0   0   0   0   0   0   \n",
            "581007                                 845  ...   0   0   0   0   0   0   0   \n",
            "581008                                 854  ...   0   0   0   0   0   0   0   \n",
            "581009                                 864  ...   0   0   0   0   0   0   0   \n",
            "581010                                 875  ...   0   0   0   0   0   0   0   \n",
            "\n",
            "        52  53  Cover Type  \n",
            "0        0   0           5  \n",
            "1        0   0           2  \n",
            "2        0   0           2  \n",
            "3        0   0           5  \n",
            "4        0   0           2  \n",
            "...     ..  ..         ...  \n",
            "581006   0   0           3  \n",
            "581007   0   0           3  \n",
            "581008   0   0           3  \n",
            "581009   0   0           3  \n",
            "581010   0   0           3  \n",
            "\n",
            "[581011 rows x 55 columns]>\n"
          ]
        }
      ],
      "source": [
        "# list containing first 11 column names, remaining 45 columns contain one-hot encodec values which represent \"Wilderness\n",
        "# Area\" (4 columns), \"Soil Type\" (40 columns) and target column \"Cover Type\"\n",
        "attributes = [\"Elevation\", \"Aspect\", \"Slope\", \"Horizontal Distance To Hydrology\", \"Vertical Distance To Hydrology\", \"Horizontal Distance To Roadways\", \"Hillshade 9am\",\n",
        "              \"Hillshade Noon\", \"Hillshade 3pm\",\"Horizontal Distance To Fire Points\"]\n",
        "\n",
        "import gzip\n",
        "from zipfile import ZipFile\n",
        "!wget http://archive.ics.uci.edu/static/public/31/covertype.zip\n",
        "# additional information about the dataset can be found on http://archive.ics.uci.edu/dataset/31/covertype\n",
        "\n",
        "with ZipFile('/content/covertype.zip') as datazip:\n",
        "    datazip.extract('covtype.data.gz')\n",
        "    with gzip.open('/content/covtype.data.gz') as datacsv:\n",
        "      data = pd.read_csv(datacsv, header=0, names=attributes + list(str(x) for x in range(10, 54)) + [\"Cover Type\"])\n",
        "\n",
        "print(data.head)"
      ]
    },
    {
      "cell_type": "markdown",
      "metadata": {
        "id": "HzYKBu2Rvw4f"
      },
      "source": [
        "**Exploratory data analysis**"
      ]
    },
    {
      "cell_type": "code",
      "execution_count": null,
      "metadata": {
        "colab": {
          "base_uri": "https://localhost:8080/",
          "height": 478
        },
        "id": "j8x1X3D35B9t",
        "outputId": "3fa4687c-dbd8-4dc8-adce-4dbd337599e7"
      },
      "outputs": [
        {
          "output_type": "display_data",
          "data": {
            "text/plain": [
              "<Figure size 640x480 with 1 Axes>"
            ],
            "image/png": "[encoded data removed]"
          },
          "metadata": {}
        }
      ],
      "source": [
        "y = data[\"Cover Type\"].value_counts()\n",
        "fig, ax = plt.subplots()\n",
        "width = 0.75\n",
        "ind = np.arange(len(y))\n",
        "ax.barh(ind, y, width, color = \"green\")\n",
        "fig.suptitle('Cover Type', fontsize=12)\n",
        "for i, v in enumerate(y):\n",
        "  ax.text(v + 3, i + .25, str(v), color = \"blue\", fontweight = \"bold\")\n",
        "plt.show()"
      ]
    },
    {
      "cell_type": "markdown",
      "metadata": {
        "id": "JPulOTe5WTuu"
      },
      "source": [
        "There is a class imbalance as some cover types are underrepresented"
      ]
    },
    {
      "cell_type": "code",
      "execution_count": null,
      "metadata": {
        "colab": {
          "base_uri": "https://localhost:8080/",
          "height": 478
        },
        "id": "vq6pFp6Tt8kl",
        "outputId": "154249a2-0728-48c8-fcf9-04111f296881"
      },
      "outputs": [
        {
          "output_type": "display_data",
          "data": {
            "text/plain": [
              "<Figure size 640x480 with 1 Axes>"
            ],
            "image/png": "[encoded data removed]"
          },
          "metadata": {}
        }
      ],
      "source": [
        "y = data.iloc[:, 10:14].sum(axis=0)\n",
        "fig, ax = plt.subplots()\n",
        "width = 0.75\n",
        "ind = np.arange(len(y))\n",
        "ax.barh(ind, y, width, color = \"green\")\n",
        "fig.suptitle('Wilderness Area', fontsize=12)\n",
        "for i, v in enumerate(y):\n",
        "  ax.text(v + 3, i + .25, str(v), color = \"blue\", fontweight = \"bold\")\n",
        "plt.show()"
      ]
    },
    {
      "cell_type": "markdown",
      "metadata": {
        "id": "mVJhDzPUg4IJ"
      },
      "source": [
        "Types of Wilderness Areas are also imbalanced. It may be related to the imbalance of the target."
      ]
    },
    {
      "cell_type": "markdown",
      "metadata": {
        "id": "Xc4ZQn9wv4ZG"
      },
      "source": [
        "**Data normalization and target encoding**\n"
      ]
    },
    {
      "cell_type": "code",
      "execution_count": null,
      "metadata": {
        "id": "54Z8GeT3HXPe"
      },
      "outputs": [],
      "source": [
        "normalized = pd.DataFrame(preprocessing.normalize(data.iloc[:, :10].values), columns=attributes)\n",
        "\n",
        "temp = data.iloc[:, 10:14]\n",
        "x, y = temp.shape\n",
        "for i in temp:\n",
        "  temp = temp.replace({i : {1 : temp[i].sum() / x}})\n",
        "normalized['Wilderness Area'] = temp.sum(axis = 1)\n",
        "\n",
        "temp = data.iloc[:, 14:54]\n",
        "for i in temp:\n",
        "  temp = temp.replace({i : {1 : temp[i].sum() / x}})\n",
        "normalized['Soil Type'] = temp.sum(axis = 1)"
      ]
    },
    {
      "cell_type": "markdown",
      "metadata": {
        "id": "gfC2GJYZX6L2"
      },
      "source": [
        "**Oversampling using SMOTE**"
      ]
    },
    {
      "cell_type": "code",
      "execution_count": null,
      "metadata": {
        "id": "KZFhcGcJSVbz"
      },
      "outputs": [],
      "source": [
        "x = np.array(normalized.iloc[:, :11])\n",
        "y = np.array(data[\"Cover Type\"])\n",
        "\n",
        "smote = SMOTE()\n",
        "x, y = smote.fit_resample(x, y)\n",
        "\n",
        "x_train, x_test, y_train, y_test = sklearn.model_selection.train_test_split(x, y, test_size=0.1)"
      ]
    },
    {
      "cell_type": "markdown",
      "metadata": {
        "id": "VQ-b1tDawKE1"
      },
      "source": [
        "**RandomForest**"
      ]
    },
    {
      "cell_type": "code",
      "execution_count": null,
      "metadata": {
        "colab": {
          "base_uri": "https://localhost:8080/"
        },
        "id": "OEVNsALeBczx",
        "outputId": "9b80f8fa-48e8-4674-fca4-18225d2a10d2"
      },
      "outputs": [
        {
          "output_type": "stream",
          "name": "stdout",
          "text": [
            "              precision    recall  f1-score   support\n",
            "\n",
            "           1     0.9720    0.9689    0.9704     28337\n",
            "           2     0.9724    0.9602    0.9663     28260\n",
            "           3     0.9950    0.9975    0.9962     28330\n",
            "           4     0.9984    1.0000    0.9992     28454\n",
            "           5     0.9945    0.9997    0.9971     28162\n",
            "           6     0.9951    0.9987    0.9969     28488\n",
            "           7     0.9969    0.9998    0.9983     28280\n",
            "\n",
            "    accuracy                         0.9892    198311\n",
            "   macro avg     0.9892    0.9892    0.9892    198311\n",
            "weighted avg     0.9892    0.9892    0.9892    198311\n",
            "\n"
          ]
        }
      ],
      "source": [
        "model = RandomForestClassifier()\n",
        "\n",
        "model.fit(x_train, y_train)\n",
        "predicted = model.predict(x_test)\n",
        "print(metrics.classification_report(y_test, predicted, digits=4))"
      ]
    },
    {
      "cell_type": "markdown",
      "metadata": {
        "id": "VPa3Wc4CBoTp"
      },
      "source": [
        "**RandomForest with hyperparameter tunining**"
      ]
    },
    {
      "cell_type": "code",
      "execution_count": null,
      "metadata": {
        "colab": {
          "base_uri": "https://localhost:8080/"
        },
        "id": "0RRDLyw7fSue",
        "outputId": "eedfee6e-758b-4bfb-c2aa-f29bd87b9db3"
      },
      "outputs": [
        {
          "metadata": {
            "tags": null
          },
          "name": "stdout",
          "output_type": "stream",
          "text": [
            "Fitting 3 folds for each of 4 candidates, totalling 12 fits\n"
          ]
        },
        {
          "metadata": {
            "tags": null
          },
          "name": "stderr",
          "output_type": "stream",
          "text": [
            "/usr/local/lib/python3.10/dist-packages/joblib/externals/loky/process_executor.py:752: UserWarning: A worker stopped while some jobs were given to the executor. This can be caused by a too short worker timeout or by a memory leak.\n",
            "  warnings.warn(\n"
          ]
        },
        {
          "output_type": "stream",
          "name": "stdout",
          "text": [
            "              precision    recall  f1-score   support\n",
            "\n",
            "           1     0.9704    0.9639    0.9671     28245\n",
            "           2     0.9677    0.9565    0.9621     28372\n",
            "           3     0.9942    0.9961    0.9952     28132\n",
            "           4     0.9977    1.0000    0.9989     28371\n",
            "           5     0.9945    0.9998    0.9972     28443\n",
            "           6     0.9933    0.9986    0.9959     28461\n",
            "           7     0.9964    0.9998    0.9981     28287\n",
            "\n",
            "    accuracy                         0.9878    198311\n",
            "   macro avg     0.9877    0.9878    0.9878    198311\n",
            "weighted avg     0.9877    0.9878    0.9878    198311\n",
            "\n"
          ]
        }
      ],
      "source": [
        "model_grid = {'max_depth': [100],\n",
        "              'min_samples_split': [5, 10],\n",
        "              'min_samples_leaf': [2, 4],}\n",
        "\n",
        "model = RandomForestClassifier()\n",
        "model_search = GridSearchCV(estimator=model, param_grid=model_grid, cv=3, verbose=3, n_jobs=2)\n",
        "\n",
        "model_search.fit(x_train, y_train)\n",
        "predicted = model_search.predict(x_test)\n",
        "print(metrics.classification_report(y_test, predicted, digits=4))"
      ]
    },
    {
      "cell_type": "markdown",
      "metadata": {
        "id": "ef-L_yAjwEhz"
      },
      "source": [
        "**KNeighborsClassifier**"
      ]
    },
    {
      "cell_type": "code",
      "execution_count": null,
      "metadata": {
        "colab": {
          "base_uri": "https://localhost:8080/"
        },
        "id": "GTTpBl4EB8Lo",
        "outputId": "cf8888d1-d5a3-46d6-d860-6192f644f789"
      },
      "outputs": [
        {
          "output_type": "stream",
          "name": "stdout",
          "text": [
            "              precision    recall  f1-score   support\n",
            "\n",
            "           1     0.9642    0.9704    0.9673     28337\n",
            "           2     0.9804    0.9403    0.9599     28260\n",
            "           3     0.9935    0.9980    0.9957     28330\n",
            "           4     0.9989    0.9998    0.9994     28454\n",
            "           5     0.9863    0.9999    0.9931     28162\n",
            "           6     0.9929    0.9992    0.9960     28488\n",
            "           7     0.9912    0.9998    0.9955     28280\n",
            "\n",
            "    accuracy                         0.9868    198311\n",
            "   macro avg     0.9868    0.9868    0.9867    198311\n",
            "weighted avg     0.9868    0.9868    0.9867    198311\n",
            "\n"
          ]
        }
      ],
      "source": [
        "model = KNeighborsClassifier()\n",
        "\n",
        "model.fit(x_train, y_train)\n",
        "predicted = model.predict(x_test)\n",
        "print(metrics.classification_report(y_test, predicted, digits=4))"
      ]
    },
    {
      "cell_type": "markdown",
      "metadata": {
        "id": "kcxFXuCOBwN4"
      },
      "source": [
        "**KNeighborsClassifier with hyperparameter tunining**"
      ]
    },
    {
      "cell_type": "code",
      "execution_count": null,
      "metadata": {
        "colab": {
          "base_uri": "https://localhost:8080/"
        },
        "id": "ZxOMtOQiG77Q",
        "outputId": "1882bbc5-c84c-4f23-eb8d-66cf29eab7dd"
      },
      "outputs": [
        {
          "output_type": "stream",
          "name": "stdout",
          "text": [
            "Fitting 3 folds for each of 10 candidates, totalling 30 fits\n",
            "              precision    recall  f1-score   support\n",
            "\n",
            "           1     0.9642    0.9704    0.9673     28337\n",
            "           2     0.9804    0.9403    0.9599     28260\n",
            "           3     0.9935    0.9980    0.9957     28330\n",
            "           4     0.9989    0.9998    0.9994     28454\n",
            "           5     0.9863    0.9999    0.9931     28162\n",
            "           6     0.9929    0.9992    0.9960     28488\n",
            "           7     0.9912    0.9998    0.9955     28280\n",
            "\n",
            "    accuracy                         0.9868    198311\n",
            "   macro avg     0.9868    0.9868    0.9867    198311\n",
            "weighted avg     0.9868    0.9868    0.9867    198311\n",
            "\n"
          ]
        }
      ],
      "source": [
        "model_grid = {'n_neighbors' : [int(x) for x in np.linspace(start = 5, stop = 30, num = 5)],\n",
        "               'weights' : ['uniform', 'distance'],\n",
        "               'leaf_size' : [int(x) for x in np.linspace(start = 30, stop = 100, num = 10)],\n",
        "               'metric' : ['minkowski', 'manhattan']}\n",
        "\n",
        "model = KNeighborsClassifier()\n",
        "model_random = RandomizedSearchCV(estimator=model, param_distributions=model_grid, n_iter=10, cv=3, verbose=2, n_jobs=-1)\n",
        "\n",
        "model_random.fit(x_train, y_train)\n",
        "predicted = model_random.predict(x_test)\n",
        "print(metrics.classification_report(y_test, predicted, digits=4))"
      ]
    },
    {
      "cell_type": "markdown",
      "metadata": {
        "id": "U_-7s64MwTUQ"
      },
      "source": [
        "**Gaussian Naive Bayes**"
      ]
    },
    {
      "cell_type": "code",
      "execution_count": null,
      "metadata": {
        "colab": {
          "base_uri": "https://localhost:8080/"
        },
        "id": "Vv6s6KOYCInA",
        "outputId": "88023863-3bc0-4d58-a4f5-c721f34518a5"
      },
      "outputs": [
        {
          "output_type": "stream",
          "name": "stdout",
          "text": [
            "              precision    recall  f1-score   support\n",
            "\n",
            "           1     0.3993    0.3236    0.3575     28337\n",
            "           2     0.4998    0.1093    0.1794     28260\n",
            "           3     0.3053    0.0514    0.0880     28330\n",
            "           4     0.4630    1.0000    0.6329     28454\n",
            "           5     0.3309    0.8703    0.4795     28162\n",
            "           6     0.2343    0.0588    0.0940     28488\n",
            "           7     0.5519    0.4239    0.4795     28280\n",
            "\n",
            "    accuracy                         0.4051    198311\n",
            "   macro avg     0.3978    0.4053    0.3301    198311\n",
            "weighted avg     0.3977    0.4051    0.3300    198311\n",
            "\n"
          ]
        }
      ],
      "source": [
        "model = GaussianNB()\n",
        "\n",
        "model.fit(x_train, y_train)\n",
        "predicted = model.predict(x_test)\n",
        "print(metrics.classification_report(y_test, predicted, digits=4))"
      ]
    },
    {
      "cell_type": "markdown",
      "metadata": {
        "id": "Z_dMN2Z3CQGn"
      },
      "source": [
        "**Gaussian Naive Bayes with hyperparameter tunining**"
      ]
    },
    {
      "cell_type": "code",
      "execution_count": null,
      "metadata": {
        "colab": {
          "base_uri": "https://localhost:8080/"
        },
        "id": "pUy93cSCG_s4",
        "outputId": "57f2a64a-d7ae-4259-a16c-ca8914cd12b2"
      },
      "outputs": [
        {
          "output_type": "stream",
          "name": "stdout",
          "text": [
            "Fitting 5 folds for each of 100 candidates, totalling 500 fits\n",
            "              precision    recall  f1-score   support\n",
            "\n",
            "           1     0.4093    0.2895    0.3391     28337\n",
            "           2     0.5192    0.1215    0.1970     28260\n",
            "           3     0.4979    0.1586    0.2406     28330\n",
            "           4     0.5251    0.9951    0.6874     28454\n",
            "           5     0.3203    0.8888    0.4709     28162\n",
            "           6     0.2998    0.1044    0.1548     28488\n",
            "           7     0.5666    0.4136    0.4781     28280\n",
            "\n",
            "    accuracy                         0.4243    198311\n",
            "   macro avg     0.4483    0.4245    0.3669    198311\n",
            "weighted avg     0.4483    0.4243    0.3668    198311\n",
            "\n"
          ]
        }
      ],
      "source": [
        "model_grid = {'var_smoothing': np.logspace(0, -9, num=100)}\n",
        "\n",
        "model = GaussianNB()\n",
        "model_random = GridSearchCV(estimator=model, param_grid=model_grid, verbose=2, n_jobs=-1, scoring='accuracy')\n",
        "\n",
        "model_random.fit(x_train, y_train)\n",
        "predicted = model_random.predict(x_test)\n",
        "print(metrics.classification_report(y_test, predicted, digits=4))"
      ]
    }
  ],
  "metadata": {
    "colab": {
      "provenance": []
    },
    "kernelspec": {
      "display_name": "Python 3",
      "name": "python3"
    },
    "language_info": {
      "name": "python"
    }
  },
  "nbformat": 4,
  "nbformat_minor": 0
}